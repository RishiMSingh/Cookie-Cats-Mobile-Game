{
 "cells": [
  {
   "cell_type": "code",
   "execution_count": 1,
   "id": "869a2bca",
   "metadata": {},
   "outputs": [],
   "source": [
    "#Importing Libraries\n",
    "import numpy as np\n",
    "import pandas as pd \n",
    "import seaborn as sns\n",
    "import matplotlib.pyplot as plt\n",
    "import os\n",
    "\n",
    "from scipy.stats import shapiro\n",
    "import scipy.stats as stats\n",
    "\n",
    "import warnings"
   ]
  },
  {
   "cell_type": "code",
   "execution_count": 4,
   "id": "276c92f8",
   "metadata": {},
   "outputs": [
    {
     "data": {
      "text/html": [
       "<div>\n",
       "<style scoped>\n",
       "    .dataframe tbody tr th:only-of-type {\n",
       "        vertical-align: middle;\n",
       "    }\n",
       "\n",
       "    .dataframe tbody tr th {\n",
       "        vertical-align: top;\n",
       "    }\n",
       "\n",
       "    .dataframe thead th {\n",
       "        text-align: right;\n",
       "    }\n",
       "</style>\n",
       "<table border=\"1\" class=\"dataframe\">\n",
       "  <thead>\n",
       "    <tr style=\"text-align: right;\">\n",
       "      <th></th>\n",
       "      <th>userid</th>\n",
       "      <th>version</th>\n",
       "      <th>sum_gamerounds</th>\n",
       "      <th>retention_1</th>\n",
       "      <th>retention_7</th>\n",
       "    </tr>\n",
       "  </thead>\n",
       "  <tbody>\n",
       "    <tr>\n",
       "      <th>0</th>\n",
       "      <td>116</td>\n",
       "      <td>gate_30</td>\n",
       "      <td>3</td>\n",
       "      <td>False</td>\n",
       "      <td>False</td>\n",
       "    </tr>\n",
       "    <tr>\n",
       "      <th>1</th>\n",
       "      <td>337</td>\n",
       "      <td>gate_30</td>\n",
       "      <td>38</td>\n",
       "      <td>True</td>\n",
       "      <td>False</td>\n",
       "    </tr>\n",
       "    <tr>\n",
       "      <th>2</th>\n",
       "      <td>377</td>\n",
       "      <td>gate_40</td>\n",
       "      <td>165</td>\n",
       "      <td>True</td>\n",
       "      <td>False</td>\n",
       "    </tr>\n",
       "    <tr>\n",
       "      <th>3</th>\n",
       "      <td>483</td>\n",
       "      <td>gate_40</td>\n",
       "      <td>1</td>\n",
       "      <td>False</td>\n",
       "      <td>False</td>\n",
       "    </tr>\n",
       "    <tr>\n",
       "      <th>4</th>\n",
       "      <td>488</td>\n",
       "      <td>gate_40</td>\n",
       "      <td>179</td>\n",
       "      <td>True</td>\n",
       "      <td>True</td>\n",
       "    </tr>\n",
       "    <tr>\n",
       "      <th>...</th>\n",
       "      <td>...</td>\n",
       "      <td>...</td>\n",
       "      <td>...</td>\n",
       "      <td>...</td>\n",
       "      <td>...</td>\n",
       "    </tr>\n",
       "    <tr>\n",
       "      <th>90184</th>\n",
       "      <td>9999441</td>\n",
       "      <td>gate_40</td>\n",
       "      <td>97</td>\n",
       "      <td>True</td>\n",
       "      <td>False</td>\n",
       "    </tr>\n",
       "    <tr>\n",
       "      <th>90185</th>\n",
       "      <td>9999479</td>\n",
       "      <td>gate_40</td>\n",
       "      <td>30</td>\n",
       "      <td>False</td>\n",
       "      <td>False</td>\n",
       "    </tr>\n",
       "    <tr>\n",
       "      <th>90186</th>\n",
       "      <td>9999710</td>\n",
       "      <td>gate_30</td>\n",
       "      <td>28</td>\n",
       "      <td>True</td>\n",
       "      <td>False</td>\n",
       "    </tr>\n",
       "    <tr>\n",
       "      <th>90187</th>\n",
       "      <td>9999768</td>\n",
       "      <td>gate_40</td>\n",
       "      <td>51</td>\n",
       "      <td>True</td>\n",
       "      <td>False</td>\n",
       "    </tr>\n",
       "    <tr>\n",
       "      <th>90188</th>\n",
       "      <td>9999861</td>\n",
       "      <td>gate_40</td>\n",
       "      <td>16</td>\n",
       "      <td>False</td>\n",
       "      <td>False</td>\n",
       "    </tr>\n",
       "  </tbody>\n",
       "</table>\n",
       "<p>90189 rows × 5 columns</p>\n",
       "</div>"
      ],
      "text/plain": [
       "        userid  version  sum_gamerounds  retention_1  retention_7\n",
       "0          116  gate_30               3        False        False\n",
       "1          337  gate_30              38         True        False\n",
       "2          377  gate_40             165         True        False\n",
       "3          483  gate_40               1        False        False\n",
       "4          488  gate_40             179         True         True\n",
       "...        ...      ...             ...          ...          ...\n",
       "90184  9999441  gate_40              97         True        False\n",
       "90185  9999479  gate_40              30        False        False\n",
       "90186  9999710  gate_30              28         True        False\n",
       "90187  9999768  gate_40              51         True        False\n",
       "90188  9999861  gate_40              16        False        False\n",
       "\n",
       "[90189 rows x 5 columns]"
      ]
     },
     "execution_count": 4,
     "metadata": {},
     "output_type": "execute_result"
    }
   ],
   "source": [
    "df = pd.read_csv('/Users/rishisingh/Desktop/Cookie-Cats-Mobile-Game/cookie_cats.csv')\n",
    "df"
   ]
  },
  {
   "cell_type": "code",
   "execution_count": 6,
   "id": "227ab6b2",
   "metadata": {},
   "outputs": [
    {
     "data": {
      "text/html": [
       "<div>\n",
       "<style scoped>\n",
       "    .dataframe tbody tr th:only-of-type {\n",
       "        vertical-align: middle;\n",
       "    }\n",
       "\n",
       "    .dataframe tbody tr th {\n",
       "        vertical-align: top;\n",
       "    }\n",
       "\n",
       "    .dataframe thead th {\n",
       "        text-align: right;\n",
       "    }\n",
       "</style>\n",
       "<table border=\"1\" class=\"dataframe\">\n",
       "  <thead>\n",
       "    <tr style=\"text-align: right;\">\n",
       "      <th></th>\n",
       "      <th>userid</th>\n",
       "      <th>version</th>\n",
       "      <th>sum_gamerounds</th>\n",
       "      <th>retention_1</th>\n",
       "      <th>retention_7</th>\n",
       "    </tr>\n",
       "  </thead>\n",
       "  <tbody>\n",
       "    <tr>\n",
       "      <th>0</th>\n",
       "      <td>116</td>\n",
       "      <td>gate_30</td>\n",
       "      <td>3</td>\n",
       "      <td>False</td>\n",
       "      <td>False</td>\n",
       "    </tr>\n",
       "    <tr>\n",
       "      <th>1</th>\n",
       "      <td>337</td>\n",
       "      <td>gate_30</td>\n",
       "      <td>38</td>\n",
       "      <td>True</td>\n",
       "      <td>False</td>\n",
       "    </tr>\n",
       "    <tr>\n",
       "      <th>2</th>\n",
       "      <td>377</td>\n",
       "      <td>gate_40</td>\n",
       "      <td>165</td>\n",
       "      <td>True</td>\n",
       "      <td>False</td>\n",
       "    </tr>\n",
       "    <tr>\n",
       "      <th>3</th>\n",
       "      <td>483</td>\n",
       "      <td>gate_40</td>\n",
       "      <td>1</td>\n",
       "      <td>False</td>\n",
       "      <td>False</td>\n",
       "    </tr>\n",
       "    <tr>\n",
       "      <th>4</th>\n",
       "      <td>488</td>\n",
       "      <td>gate_40</td>\n",
       "      <td>179</td>\n",
       "      <td>True</td>\n",
       "      <td>True</td>\n",
       "    </tr>\n",
       "  </tbody>\n",
       "</table>\n",
       "</div>"
      ],
      "text/plain": [
       "   userid  version  sum_gamerounds  retention_1  retention_7\n",
       "0     116  gate_30               3        False        False\n",
       "1     337  gate_30              38         True        False\n",
       "2     377  gate_40             165         True        False\n",
       "3     483  gate_40               1        False        False\n",
       "4     488  gate_40             179         True         True"
      ]
     },
     "execution_count": 6,
     "metadata": {},
     "output_type": "execute_result"
    }
   ],
   "source": [
    "df.head()"
   ]
  },
  {
   "cell_type": "code",
   "execution_count": 7,
   "id": "2e9ad8a0",
   "metadata": {},
   "outputs": [
    {
     "data": {
      "text/html": [
       "<div>\n",
       "<style scoped>\n",
       "    .dataframe tbody tr th:only-of-type {\n",
       "        vertical-align: middle;\n",
       "    }\n",
       "\n",
       "    .dataframe tbody tr th {\n",
       "        vertical-align: top;\n",
       "    }\n",
       "\n",
       "    .dataframe thead th {\n",
       "        text-align: right;\n",
       "    }\n",
       "</style>\n",
       "<table border=\"1\" class=\"dataframe\">\n",
       "  <thead>\n",
       "    <tr style=\"text-align: right;\">\n",
       "      <th></th>\n",
       "      <th>userid</th>\n",
       "      <th>sum_gamerounds</th>\n",
       "    </tr>\n",
       "  </thead>\n",
       "  <tbody>\n",
       "    <tr>\n",
       "      <th>count</th>\n",
       "      <td>9.018900e+04</td>\n",
       "      <td>90189.000000</td>\n",
       "    </tr>\n",
       "    <tr>\n",
       "      <th>mean</th>\n",
       "      <td>4.998412e+06</td>\n",
       "      <td>51.872457</td>\n",
       "    </tr>\n",
       "    <tr>\n",
       "      <th>std</th>\n",
       "      <td>2.883286e+06</td>\n",
       "      <td>195.050858</td>\n",
       "    </tr>\n",
       "    <tr>\n",
       "      <th>min</th>\n",
       "      <td>1.160000e+02</td>\n",
       "      <td>0.000000</td>\n",
       "    </tr>\n",
       "    <tr>\n",
       "      <th>25%</th>\n",
       "      <td>2.512230e+06</td>\n",
       "      <td>5.000000</td>\n",
       "    </tr>\n",
       "    <tr>\n",
       "      <th>50%</th>\n",
       "      <td>4.995815e+06</td>\n",
       "      <td>16.000000</td>\n",
       "    </tr>\n",
       "    <tr>\n",
       "      <th>75%</th>\n",
       "      <td>7.496452e+06</td>\n",
       "      <td>51.000000</td>\n",
       "    </tr>\n",
       "    <tr>\n",
       "      <th>max</th>\n",
       "      <td>9.999861e+06</td>\n",
       "      <td>49854.000000</td>\n",
       "    </tr>\n",
       "  </tbody>\n",
       "</table>\n",
       "</div>"
      ],
      "text/plain": [
       "             userid  sum_gamerounds\n",
       "count  9.018900e+04    90189.000000\n",
       "mean   4.998412e+06       51.872457\n",
       "std    2.883286e+06      195.050858\n",
       "min    1.160000e+02        0.000000\n",
       "25%    2.512230e+06        5.000000\n",
       "50%    4.995815e+06       16.000000\n",
       "75%    7.496452e+06       51.000000\n",
       "max    9.999861e+06    49854.000000"
      ]
     },
     "execution_count": 7,
     "metadata": {},
     "output_type": "execute_result"
    }
   ],
   "source": [
    "df.describe()"
   ]
  },
  {
   "cell_type": "code",
   "execution_count": 8,
   "id": "864dc233",
   "metadata": {},
   "outputs": [
    {
     "name": "stdout",
     "output_type": "stream",
     "text": [
      "<class 'pandas.core.frame.DataFrame'>\n",
      "RangeIndex: 90189 entries, 0 to 90188\n",
      "Data columns (total 5 columns):\n",
      " #   Column          Non-Null Count  Dtype \n",
      "---  ------          --------------  ----- \n",
      " 0   userid          90189 non-null  int64 \n",
      " 1   version         90189 non-null  object\n",
      " 2   sum_gamerounds  90189 non-null  int64 \n",
      " 3   retention_1     90189 non-null  bool  \n",
      " 4   retention_7     90189 non-null  bool  \n",
      "dtypes: bool(2), int64(2), object(1)\n",
      "memory usage: 2.2+ MB\n"
     ]
    }
   ],
   "source": [
    "df.info()"
   ]
  },
  {
   "cell_type": "code",
   "execution_count": 9,
   "id": "e7797b1d",
   "metadata": {},
   "outputs": [
    {
     "name": "stdout",
     "output_type": "stream",
     "text": [
      "userid            0\n",
      "version           0\n",
      "sum_gamerounds    0\n",
      "retention_1       0\n",
      "retention_7       0\n",
      "dtype: int64\n",
      "             userid  sum_gamerounds\n",
      "count  9.018900e+04    90189.000000\n",
      "mean   4.998412e+06       51.872457\n",
      "std    2.883286e+06      195.050858\n",
      "min    1.160000e+02        0.000000\n",
      "25%    2.512230e+06        5.000000\n",
      "50%    4.995815e+06       16.000000\n",
      "75%    7.496452e+06       51.000000\n",
      "max    9.999861e+06    49854.000000\n",
      "Retention day 1 rates by version:\n",
      "version\n",
      "gate_30    0.448188\n",
      "gate_40    0.442283\n",
      "Name: retention_1, dtype: float64\n",
      "\n",
      "Retention day 7 rates by version:\n",
      "version\n",
      "gate_30    0.190201\n",
      "gate_40    0.182000\n",
      "Name: retention_7, dtype: float64\n"
     ]
    }
   ],
   "source": [
    "# Checking for missing values\n",
    "print(df.isnull().sum())\n",
    "\n",
    "# Summary statistics for numeric columns\n",
    "print(df.describe())\n",
    "\n",
    "# Retention rates by group\n",
    "retention_1_rate = df.groupby('version')['retention_1'].mean()\n",
    "retention_7_rate = df.groupby('version')['retention_7'].mean()\n",
    "\n",
    "print(\"Retention day 1 rates by version:\")\n",
    "print(retention_1_rate)\n",
    "\n",
    "print(\"\\nRetention day 7 rates by version:\")\n",
    "print(retention_7_rate)"
   ]
  },
  {
   "cell_type": "markdown",
   "id": "88d66102",
   "metadata": {},
   "source": [
    "# Comparative Analysis"
   ]
  },
  {
   "cell_type": "code",
   "execution_count": 10,
   "id": "69b933f3",
   "metadata": {},
   "outputs": [
    {
     "data": {
      "image/png": "[encoded data removed]",
      "text/plain": [
       "<Figure size 640x480 with 1 Axes>"
      ]
     },
     "metadata": {},
     "output_type": "display_data"
    }
   ],
   "source": [
    "# Distribution of game rounds played\n",
    "sns.boxplot(x='version', y='sum_gamerounds', data=df)\n",
    "plt.title('Distribution of Game Rounds Played')\n",
    "plt.show()"
   ]
  },
  {
   "cell_type": "markdown",
   "id": "99d0d9b2",
   "metadata": {},
   "source": [
    "- Central Tendency: The boxplot central markers (the lines within the boxes) represent the median of the sum of game rounds played for each version. Without exact values, it's not possible to state the median, but it seems that the median is relatively low for both versions, suggesting that a typical user plays a moderate number of rounds before stopping.\n",
    "- Spread: The boxes represent the interquartile range (IQR), showing where the middle 50% of data lies. The IQR appears to be quite narrow for both groups, which indicates that most users play a similar number of game rounds.\n",
    "- Outliers: There are a few outliers for both versions, with some players playing significantly more game rounds than the average. The points above the 'whiskers' of the plot represent these outliers. Particularly, there's at least one very extreme outlier in the 'gate_30' version, reaching close to 50,000 rounds, which could be an indication of highly engaged users or potential data errors that might warrant further investigation.\n",
    "- Comparison Between Groups: From the visualization, there is no immediate indication that one version has a significantly different distribution of game rounds compared to the other. Both versions show a similar range of game rounds played, suggesting that moving the gate from level 30 to level 40 might not have a significant impact on how many rounds users play on average. "
   ]
  },
  {
   "cell_type": "markdown",
   "id": "eebb70e2",
   "metadata": {},
   "source": [
    "# Segmented Analysis"
   ]
  },
  {
   "cell_type": "code",
   "execution_count": 11,
   "id": "706a24bb",
   "metadata": {},
   "outputs": [
    {
     "name": "stdout",
     "output_type": "stream",
     "text": [
      "Average game rounds played for users retained on both day 1 and day 7: 187.04308906084054\n",
      "Average game rounds played for users retained on day 1 only: 49.861555003522305\n",
      "Average game rounds played for users retained on day 7 only: 88.03167546540706\n",
      "Average game rounds played for users not retained on both days: 11.86728255485927\n"
     ]
    }
   ],
   "source": [
    "# Segmenting users based on retention status\n",
    "# Users retained on both day 1 and day 7\n",
    "df['retained_both'] = df['retention_1'] & df['retention_7']\n",
    "\n",
    "# Users retained on day 1 only\n",
    "df['retained_day_1_only'] = df['retention_1'] & ~df['retention_7']\n",
    "\n",
    "# Users retained on day 7 only (not likely without day 1, but included for completeness)\n",
    "df['retained_day_7_only'] = ~df['retention_1'] & df['retention_7']\n",
    "\n",
    "# Users not retained on both days\n",
    "df['not_retained'] = ~df['retention_1'] & ~df['retention_7']\n",
    "\n",
    "# Calculate average sum_gamerounds for each segment\n",
    "average_rounds_retained_both = df[df['retained_both']]['sum_gamerounds'].mean()\n",
    "average_rounds_retained_day_1_only = df[df['retained_day_1_only']]['sum_gamerounds'].mean()\n",
    "average_rounds_retained_day_7_only = df[df['retained_day_7_only']]['sum_gamerounds'].mean()\n",
    "average_rounds_not_retained = df[df['not_retained']]['sum_gamerounds'].mean()\n",
    "\n",
    "# Print the results\n",
    "print(f\"Average game rounds played for users retained on both day 1 and day 7: {average_rounds_retained_both}\")\n",
    "print(f\"Average game rounds played for users retained on day 1 only: {average_rounds_retained_day_1_only}\")\n",
    "print(f\"Average game rounds played for users retained on day 7 only: {average_rounds_retained_day_7_only}\")\n",
    "print(f\"Average game rounds played for users not retained on both days: {average_rounds_not_retained}\")"
   ]
  },
  {
   "cell_type": "code",
   "execution_count": 13,
   "id": "d1f1c980",
   "metadata": {},
   "outputs": [
    {
     "data": {
      "image/png": "[encoded data removed]",
      "text/plain": [
       "<Figure size 1000x600 with 1 Axes>"
      ]
     },
     "metadata": {},
     "output_type": "display_data"
    }
   ],
   "source": [
    "# Average game rounds played visualization\n",
    "segments = ['Retained Day 1', 'Retained Day 7', 'Retained Both', 'Retained Neither']\n",
    "averages = [average_rounds_retained_day_1_only, average_rounds_retained_day_7_only, average_rounds_retained_both, average_rounds_not_retained]\n",
    "\n",
    "plt.figure(figsize=(10, 6))\n",
    "sns.barplot(x=segments, y=averages, palette='coolwarm')\n",
    "plt.title('Average Game Rounds Played by Retention Segment')\n",
    "plt.xlabel('Segment')\n",
    "plt.ylabel('Average Game Rounds Played')\n",
    "plt.show()"
   ]
  },
  {
   "cell_type": "markdown",
   "id": "e579e6d9",
   "metadata": {},
   "source": [
    "- Retained on Both Days: Users who were retained on both Day 1 and Day 7 played significantly more game rounds on average, with about 187 rounds. This indicates a strong relationship between high engagement (as measured by the number of game rounds played) and higher retention rates.\n",
    "- Retained on Day 1 Only: Users who were retained only on Day 1 but not on Day 7 played far fewer rounds on average, with roughly 50 rounds. This suggests that while these users initially continued playing after their first day, their engagement was not sustained over the week.\n",
    "- Retained on Day 7 Only: Users who were not retained on Day 1 but returned and were retained on Day 7 played an average of about 88 rounds. This unique segment suggests there might be a group of players who, despite not playing the day after the install, came back and played more rounds within a week. It would be insightful to understand what drove them back to the game.\n",
    "- Not Retained on Both Days: Users who were not retained on either Day 1 or Day 7 played the fewest rounds, with an average of nearly 12 rounds. This group showed the lowest engagement and retention, indicating either a lack of interest or other factors that deterred them from continuing to play the game.\n",
    "- The visualization and the data suggest a clear correlation between the level of engagement with the game and retention. Players who engage more with the game by playing more rounds are more likely to be retained, which is consistent with common understandings of user engagement and retention in gaming. This could inform strategies to improve both early engagement and long-term retention, such as adjusting game difficulty, adding incentives, or enhancing user experience to encourage continued play beyond the initial download."
   ]
  },
  {
   "cell_type": "code",
   "execution_count": 15,
   "id": "f513a519",
   "metadata": {},
   "outputs": [
    {
     "name": "stdout",
     "output_type": "stream",
     "text": [
      "Chi-squared test for retention_1: p-value = 0.07550476210309086\n",
      "Chi-squared test for retention_7: p-value = 0.0016005742679058301\n"
     ]
    }
   ],
   "source": [
    "from scipy.stats import chi2_contingency\n",
    "\n",
    "# Creating a contingency table for retention_1\n",
    "contingency_table_1 = pd.crosstab(df['version'], df['retention_1'])\n",
    "\n",
    "# Chi-squared test for retention_1\n",
    "chi2, p, dof, expected = chi2_contingency(contingency_table_1)\n",
    "print(f\"Chi-squared test for retention_1: p-value = {p}\")\n",
    "\n",
    "# Repeat for retention_7\n",
    "contingency_table_7 = pd.crosstab(df['version'], df['retention_7'])\n",
    "chi2, p, dof, expected = chi2_contingency(contingency_table_7)\n",
    "print(f\"Chi-squared test for retention_7: p-value = {p}\")"
   ]
  },
  {
   "cell_type": "code",
   "execution_count": 16,
   "id": "34801dd1",
   "metadata": {},
   "outputs": [],
   "source": [
    "def cohens_d(group1, group2):\n",
    "    \"\"\"\n",
    "    Calculate Cohen's d for effect size between two groups.\n",
    "\n",
    "    :param group1: Series or array-like, first group\n",
    "    :param group2: Series or array-like, second group\n",
    "    :return: Cohen's d effect size\n",
    "    \"\"\"\n",
    "    # Calculate the means and standard deviations\n",
    "    mean1, mean2 = group1.mean(), group2.mean()\n",
    "    std1, std2 = group1.std(), group2.std()\n",
    "\n",
    "    # Calculate the pooled standard deviation\n",
    "    n1, n2 = len(group1), len(group2)\n",
    "    pooled_std = np.sqrt(((n1 - 1) * std1 ** 2 + (n2 - 1) * std2 ** 2) / (n1 + n2 - 2))\n",
    "\n",
    "    # Calculate Cohen's d\n",
    "    d = (mean1 - mean2) / pooled_std\n",
    "    return d"
   ]
  },
  {
   "cell_type": "code",
   "execution_count": 18,
   "id": "a5d1f978",
   "metadata": {},
   "outputs": [
    {
     "name": "stdout",
     "output_type": "stream",
     "text": [
      "Cohen's d (Day 1 vs Day 7 retention): -0.2755594439159934\n"
     ]
    }
   ],
   "source": [
    "import numpy as np\n",
    "\n",
    "# Example: Calculating effect size between users retained on day 1 vs day 7\n",
    "d_day1_day7 = cohens_d(df[df['retention_1']]['sum_gamerounds'], df[df['retention_7']]['sum_gamerounds'])\n",
    "\n",
    "print(f\"Cohen's d (Day 1 vs Day 7 retention): {d_day1_day7}\")"
   ]
  },
  {
   "cell_type": "code",
   "execution_count": 19,
   "id": "d41317f8",
   "metadata": {},
   "outputs": [
    {
     "data": {
      "image/png": "[encoded data removed]",
      "text/plain": [
       "<Figure size 800x500 with 1 Axes>"
      ]
     },
     "metadata": {},
     "output_type": "display_data"
    }
   ],
   "source": [
    "# Prepare data for visualization\n",
    "segments = ['Retained Day 1', 'Retained Day 7']\n",
    "averages = [\n",
    "    df[df['retention_1']]['sum_gamerounds'].mean(),\n",
    "    df[df['retention_7']]['sum_gamerounds'].mean()\n",
    "]\n",
    "\n",
    "# Create bar plot\n",
    "plt.figure(figsize=(8, 5))\n",
    "barplot = sns.barplot(x=segments, y=averages, palette='pastel')\n",
    "plt.title('Average Game Rounds Played by Retention Segment')\n",
    "plt.xlabel('Segment')\n",
    "plt.ylabel('Average Game Rounds Played')\n",
    "\n",
    "# Annotate with Cohen's d\n",
    "plt.text(0.5, max(averages) * 0.95, f\"Cohen's d: {d_day1_day7:.2f}\", ha='center', va='bottom')\n",
    "\n",
    "plt.show()"
   ]
  },
  {
   "cell_type": "markdown",
   "id": "227ea21e",
   "metadata": {},
   "source": [
    "- The average game rounds played by users retained on Day 1 are shown in blue, while the average for users retained on Day 7 is in orange. Visually, users retained on Day 7 appear to play more game rounds on average than those retained on Day 1.\n",
    "- Cohen's d is -0.28, which is a negative value. In the context of effect size, a negative value indicates that the mean of the first group (Retained Day 1) is less than the mean of the second group (Retained Day 7). The magnitude of Cohen's d suggests that the effect size is small. According to common thresholds for Cohen's d, a value of 0.2 would be considered a 'small' effect size, 0.5 'medium', and 0.8 'large'.\n",
    "- The small effect size suggests that while there is a difference in the average number of game rounds played between the two groups, the difference is not large. This could mean that factors other than the retention day might also play a role in determining how many rounds players play.\n",
    "- The practical significance of this finding is that while there's a noticeable difference between the two groups, it may not be substantial enough to warrant major changes in the game or its marketing strategies solely based on this metric. However, it does highlight the importance of focusing on player retention strategies beyond the initial day after installation.\n",
    "- These results can inform game developers and marketers about where to focus their retention efforts. While it seems beneficial to target users for retention on Day 7 for increased gameplay, the overall impact may not be as significant as expected, suggesting a need for a more nuanced approach to user engagement and retention strategies."
   ]
  },
  {
   "cell_type": "code",
   "execution_count": null,
   "id": "e22f4888",
   "metadata": {},
   "outputs": [],
   "source": []
  }
 ],
 "metadata": {
  "kernelspec": {
   "display_name": "Python 3 (ipykernel)",
   "language": "python",
   "name": "python3"
  },
  "language_info": {
   "codemirror_mode": {
    "name": "ipython",
    "version": 3
   },
   "file_extension": ".py",
   "mimetype": "text/x-python",
   "name": "python",
   "nbconvert_exporter": "python",
   "pygments_lexer": "ipython3",
   "version": "3.10.9"
  }
 },
 "nbformat": 4,
 "nbformat_minor": 5
}
